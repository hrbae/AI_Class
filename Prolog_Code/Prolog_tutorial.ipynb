{
  "nbformat": 4,
  "nbformat_minor": 0,
  "metadata": {
    "colab": {
      "provenance": [],
      "authorship_tag": "ABX9TyPZEUdCGnkBFe46H1KnglSJ",
      "include_colab_link": true
    },
    "kernelspec": {
      "name": "python3",
      "display_name": "Python 3"
    },
    "language_info": {
      "name": "python"
    }
  },
  "cells": [
    {
      "cell_type": "markdown",
      "metadata": {
        "id": "view-in-github",
        "colab_type": "text"
      },
      "source": [
        "<a href=\"https://colab.research.google.com/github/hrbae/AI_Class/blob/main/Prolog_Code/Prolog_tutorial.ipynb\" target=\"_parent\"><img src=\"https://colab.research.google.com/assets/colab-badge.svg\" alt=\"Open In Colab\"/></a>"
      ]
    },
    {
      "cell_type": "code",
      "metadata": {
        "colab": {
          "base_uri": "https://localhost:8080/"
        },
        "id": "41qBzZBosMf4",
        "outputId": "a706e6ec-5a08-42a3-8b16-65aed62e29c1"
      },
      "source": [
        "!sudo apt install swi-prolog"
      ],
      "execution_count": 2,
      "outputs": [
        {
          "output_type": "stream",
          "name": "stdout",
          "text": [
            "Reading package lists... Done\n",
            "Building dependency tree       \n",
            "Reading state information... Done\n",
            "swi-prolog is already the newest version (7.6.4+dfsg-1build1).\n",
            "The following package was automatically installed and is no longer required:\n",
            "  libnvidia-common-460\n",
            "Use 'sudo apt autoremove' to remove it.\n",
            "0 upgraded, 0 newly installed, 0 to remove and 20 not upgraded.\n"
          ]
        }
      ]
    },
    {
      "cell_type": "code",
      "metadata": {
        "colab": {
          "base_uri": "https://localhost:8080/"
        },
        "id": "MlaM24PMoaNY",
        "outputId": "6963af4d-a154-42e8-f320-d96ce982401d"
      },
      "source": [
        "!pip install pyswip"
      ],
      "execution_count": 4,
      "outputs": [
        {
          "output_type": "stream",
          "name": "stdout",
          "text": [
            "Looking in indexes: https://pypi.org/simple, https://us-python.pkg.dev/colab-wheels/public/simple/\n",
            "Requirement already satisfied: pyswip in /usr/local/lib/python3.7/dist-packages (0.2.10)\n"
          ]
        }
      ]
    },
    {
      "cell_type": "code",
      "metadata": {
        "id": "CmHyz0pYnm9g"
      },
      "source": [
        "from pyswip import Prolog\n"
      ],
      "execution_count": 2,
      "outputs": []
    },
    {
      "cell_type": "code",
      "metadata": {
        "colab": {
          "base_uri": "https://localhost:8080/"
        },
        "id": "8P3dQcmeFdLq",
        "outputId": "5823e558-5c84-4ed6-a632-3c8409183249"
      },
      "source": [
        "\n",
        "# Google drive를 마운트\n",
        "from google.colab import drive\n",
        "drive.mount('/content/drive', force_remount=True)\n",
        "\n",
        "%cd drive/MyDrive/Colab\\ Notebooks/PL"
      ],
      "execution_count": 1,
      "outputs": [
        {
          "output_type": "stream",
          "name": "stdout",
          "text": [
            "Mounted at /content/drive\n",
            "/content/drive/MyDrive/Colab Notebooks/PL\n"
          ]
        }
      ]
    },
    {
      "cell_type": "code",
      "metadata": {
        "colab": {
          "base_uri": "https://localhost:8080/"
        },
        "id": "6Q6XPZbc-VGt",
        "outputId": "52e8ac46-0ed4-45a3-e447-bb848482ef94"
      },
      "source": [
        "!pwd"
      ],
      "execution_count": 3,
      "outputs": [
        {
          "output_type": "stream",
          "name": "stdout",
          "text": [
            "/content/drive/MyDrive/Colab Notebooks/PL\n"
          ]
        }
      ]
    },
    {
      "cell_type": "code",
      "source": [
        "!ls"
      ],
      "metadata": {
        "colab": {
          "base_uri": "https://localhost:8080/"
        },
        "id": "EdtbJzOnYwF0",
        "outputId": "380f0c1f-ac58-4d61-dd06-e25b9b7d7f51"
      },
      "execution_count": 4,
      "outputs": [
        {
          "output_type": "stream",
          "name": "stdout",
          "text": [
            "bagOf.pl\t  DFS.pl\t   loop.pl\t   reverse\n",
            "BFS.pl\t\t  half.pl\t   man2.pl\t   reverse.pl\n",
            "bisect\t\t  insert.pl\t   man.pl\t   subset.pl\n",
            "bisect.pl\t  insert.pl.bak    member.pl\t   subset.pl.bak\n",
            "class.pl\t  intersection.pl  negation.pl\t   sum.pl\n",
            "concatenation.pl  like3.pl\t   package.pl\t   sum.pl.bak\n",
            "content\t\t  like.pl\t   package.txt\t   test.pl\n",
            "dangerous_sum.pl  likes.pl\t   permutation.pl  who_does_like.pl\n",
            "delete.pl\t  listp.pl\t   pl.zip\t   writelist.pl\n"
          ]
        }
      ]
    },
    {
      "cell_type": "code",
      "metadata": {
        "id": "yAv4_WIzFsXU"
      },
      "source": [
        "prolog = Prolog()\n",
        "#prolog.consult(\"insert.pl\")"
      ],
      "execution_count": 5,
      "outputs": []
    },
    {
      "cell_type": "code",
      "source": [
        "prolog.consult(\"/content/drive/MyDrive/Colab Notebooks/PL/like.pl\", catcherrors=True)"
      ],
      "metadata": {
        "id": "XZT1LUxaWT5V"
      },
      "execution_count": 6,
      "outputs": []
    },
    {
      "cell_type": "code",
      "source": [
        "#print(list(prolog.query(\"likes(sunae,jungbae)\")))\n",
        "bool(list(prolog.query(\"likes(jungbae,sunae)\")))"
      ],
      "metadata": {
        "colab": {
          "base_uri": "https://localhost:8080/"
        },
        "id": "o5Fe3TAXanw8",
        "outputId": "98637064-f24e-4dcb-da36-b3f86508054c"
      },
      "execution_count": 17,
      "outputs": [
        {
          "output_type": "execute_result",
          "data": {
            "text/plain": [
              "True"
            ]
          },
          "metadata": {},
          "execution_count": 17
        }
      ]
    },
    {
      "cell_type": "code",
      "source": [
        "prolog.query()"
      ],
      "metadata": {
        "id": "Gevim7HIvsug"
      },
      "execution_count": null,
      "outputs": []
    },
    {
      "cell_type": "code",
      "source": [
        "print(list(prolog.query(\"likes(jungbae, X)\")))"
      ],
      "metadata": {
        "colab": {
          "base_uri": "https://localhost:8080/"
        },
        "id": "DNBpvCDQtaw6",
        "outputId": "b5426415-5ebf-4817-cd92-cb68d44f81e7"
      },
      "execution_count": 8,
      "outputs": [
        {
          "output_type": "stream",
          "name": "stdout",
          "text": [
            "[{'X': 'sunae'}]\n"
          ]
        }
      ]
    },
    {
      "cell_type": "code",
      "metadata": {
        "id": "GwZRqwz7n_8b",
        "colab": {
          "base_uri": "https://localhost:8080/"
        },
        "outputId": "3d7e93a9-4db4-4707-b346-10744c9482d7"
      },
      "source": [
        "prolog = Prolog()\n",
        "prolog.assertz(\"father(michael,john)\")\n",
        "prolog.assertz(\"father(michael,gina)\")\n",
        "list(prolog.query(\"father(michael,X)\")) == [{'X': 'john'}, {'X': 'gina'}]\n",
        "for soln in prolog.query(\"father(X,Y)\"):\n",
        "    print(soln[\"X\"], \"is the father of\", soln[\"Y\"])"
      ],
      "execution_count": 13,
      "outputs": [
        {
          "output_type": "stream",
          "name": "stdout",
          "text": [
            "michael is the father of john\n",
            "michael is the father of gina\n"
          ]
        }
      ]
    }
  ]
}